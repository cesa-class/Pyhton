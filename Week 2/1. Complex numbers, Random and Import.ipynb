{
 "cells": [
  {
   "cell_type": "markdown",
   "metadata": {},
   "source": [
    "## Complex Numbers\n",
    "Python has built-in support for complex numbers. Complex numbers have their uses in many applications related to mathematics and python provides useful tools to handle and manipulate them."
   ]
  },
  {
   "cell_type": "code",
   "execution_count": 1,
   "metadata": {},
   "outputs": [
    {
     "name": "stdout",
     "output_type": "stream",
     "text": [
      "(1+1j) (5-1j)\n",
      "(6+0j) (-4+2j) (6+4j) (0.15384615384615385+0.23076923076923075j)\n"
     ]
    }
   ],
   "source": [
    "a = 1 + 1j\n",
    "b = 5 - 1j\n",
    "print(a, b)\n",
    "print(a + b, a - b, a * b, a / b)"
   ]
  },
  {
   "cell_type": "markdown",
   "metadata": {},
   "source": [
    "## Random Library\n",
    "Probably the most widely known tool for generating random data in Python is its __random__ module, which uses the Mersenne Twister PRNG algorithm as its core generator.\n",
    "\n",
    "`import random`\n",
    "### random.random()\n",
    "Return the next random floating point number in the range `[0.0, 1.0)`.\n",
    "### random.randint(a, b)\n",
    "Return a random integer N such that **a <= N <= b**."
   ]
  },
  {
   "cell_type": "code",
   "execution_count": 2,
   "metadata": {},
   "outputs": [
    {
     "name": "stdout",
     "output_type": "stream",
     "text": [
      "8\n",
      "4\n"
     ]
    }
   ],
   "source": [
    "import random\n",
    "print(int(random.random() * 10))\n",
    "print(random.randint(1, 8))"
   ]
  },
  {
   "cell_type": "markdown",
   "metadata": {},
   "source": [
    "### Import\n",
    "There are three ways to import modules:\n",
    "+ import **package**\n",
    "+ import **package** as **alias name**\n",
    "+ from **pckage** import *****"
   ]
  },
  {
   "cell_type": "code",
   "execution_count": 3,
   "metadata": {},
   "outputs": [
    {
     "name": "stdout",
     "output_type": "stream",
     "text": [
      "5\n"
     ]
    }
   ],
   "source": [
    "import random as rnd\n",
    "print(rnd.randint(1,5))"
   ]
  },
  {
   "cell_type": "code",
   "execution_count": 4,
   "metadata": {},
   "outputs": [
    {
     "name": "stdout",
     "output_type": "stream",
     "text": [
      "5\n"
     ]
    }
   ],
   "source": [
    "from random import randint\n",
    "print(randint(1,5))"
   ]
  },
  {
   "cell_type": "code",
   "execution_count": 5,
   "metadata": {},
   "outputs": [
    {
     "name": "stdout",
     "output_type": "stream",
     "text": [
      "3\n",
      "0.8904051922773354\n"
     ]
    }
   ],
   "source": [
    "from random import *\n",
    "print(randint(1,5))\n",
    "print(random())"
   ]
  }
 ],
 "metadata": {
  "kernelspec": {
   "display_name": "Python 3",
   "language": "python",
   "name": "python3"
  },
  "language_info": {
   "codemirror_mode": {
    "name": "ipython",
    "version": 3
   },
   "file_extension": ".py",
   "mimetype": "text/x-python",
   "name": "python",
   "nbconvert_exporter": "python",
   "pygments_lexer": "ipython3",
   "version": "3.6.5"
  }
 },
 "nbformat": 4,
 "nbformat_minor": 2
}
